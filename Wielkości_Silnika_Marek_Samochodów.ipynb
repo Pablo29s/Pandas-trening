{
 "cells": [
  {
   "cell_type": "code",
   "execution_count": 10,
   "metadata": {},
   "outputs": [
    {
     "name": "stdout",
     "output_type": "stream",
     "text": [
      "        Brand  Liczba samochodów marki  Średnia wielkości silnika\n",
      "0        Audi                   3148.2                   3.032948\n",
      "1         BMW                   2973.9                   2.976877\n",
      "2   Chevrolet                   3002.7                   2.993719\n",
      "3        Ford                   3190.4                   3.044275\n",
      "4       Honda                   2952.3                   2.925966\n",
      "5     Hyundai                   2922.0                   2.936683\n",
      "6         Kia                   2980.5                   3.053791\n",
      "7    Mercedes                   2891.7                   3.069745\n",
      "8      Toyota                   2872.6                   2.961443\n",
      "9  Volkswagen                   3071.3                   3.011078\n"
     ]
    },
    {
     "name": "stderr",
     "output_type": "stream",
     "text": [
      "C:\\Users\\pawel\\AppData\\Local\\Temp\\ipykernel_34000\\1036522143.py:6: FutureWarning: Passing a dictionary to SeriesGroupBy.agg is deprecated and will raise in a future version of pandas. Pass a list of aggregations instead.\n",
      "  print(df.groupby('Brand', as_index=False)['Engine_Size'].agg({\"Liczba samochodów marki\": \"sum\", \"Średnia wielkości silnika\": \"mean\"}))\n"
     ]
    }
   ],
   "source": [
    "import pandas as pd\n",
    "\n",
    "df = pd.read_csv('car_price_dataset.csv')\n",
    "\n",
    "\n",
    "print(df.groupby('Brand', as_index=False)['Engine_Size'].agg({\"Liczba samochodów marki\": \"sum\", \"Średnia wielkości silnika\": \"mean\"}))"
   ]
  }
 ],
 "metadata": {
  "kernelspec": {
   "display_name": "Python 3",
   "language": "python",
   "name": "python3"
  },
  "language_info": {
   "codemirror_mode": {
    "name": "ipython",
    "version": 3
   },
   "file_extension": ".py",
   "mimetype": "text/x-python",
   "name": "python",
   "nbconvert_exporter": "python",
   "pygments_lexer": "ipython3",
   "version": "3.11.9"
  }
 },
 "nbformat": 4,
 "nbformat_minor": 2
}
