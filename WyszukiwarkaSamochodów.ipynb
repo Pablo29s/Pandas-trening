{
 "cells": [
  {
   "cell_type": "code",
   "execution_count": null,
   "metadata": {},
   "outputs": [],
   "source": [
    "import pandas as pd\n",
    "\n",
    "cena = input(\"Cena samochodu (Niska, Wysoka, Średnia, Bardzo niska): \\n\")\n",
    "transmission = input(\"Rodzaj skrzyni biegów (Automatic, Manual, Semi-Automatic): \\n\")\n",
    "year = int(input(\"Rok produkcji (od 2000 do obecnego): \\n\"))\n",
    "fuel = input(\"Rodzaj paliwa (Diesel, Electric, Hybrid, Petrol): \\n\")\n",
    "\n",
    "\n",
    "\n",
    "\n",
    "df = pd.read_csv('car_price_dataset.csv')\n",
    "\n",
    "\n",
    "df[\"Cena\"] = \"Nieznana\"\n",
    "df.loc[df[\"Price\"] >= 12000, \"Cena\"] = \"Wysoka\"\n",
    "df.loc[(df[\"Price\"] >= 8500) & (df[\"Price\"] < 12000), \"Cena\"] = \"Średnia\"\n",
    "df.loc[(df[\"Price\"] >= 5500) & (df[\"Price\"] < 8500), \"Cena\"] = \"Niska\"\n",
    "df.loc[df[\"Price\"] < 5500, \"Cena\"] = \"Bardzo niska\"\n",
    "\n",
    "\n",
    "filtered_df = df[(df[\"Cena\"] == cena) & (df[\"Transmission\"] == transmission) & (df[\"Year\"] == year) & (df[\"Fuel_Type\"] == fuel)]\n",
    "\n",
    "\n",
    "if not filtered_df.empty:\n",
    "    print(\"\\nIdealne samochody :\")\n",
    "    print(filtered_df[['Brand', 'Model']].to_string(index=False))\n",
    "else:\n",
    "    print(\"\\nBrak samochodów spełniających kryteria.\")"
   ]
  }
 ],
 "metadata": {
  "kernelspec": {
   "display_name": "Python 3",
   "language": "python",
   "name": "python3"
  },
  "language_info": {
   "codemirror_mode": {
    "name": "ipython",
    "version": 3
   },
   "file_extension": ".py",
   "mimetype": "text/x-python",
   "name": "python",
   "nbconvert_exporter": "python",
   "pygments_lexer": "ipython3",
   "version": "3.11.9"
  }
 },
 "nbformat": 4,
 "nbformat_minor": 2
}
